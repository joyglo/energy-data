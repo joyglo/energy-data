{
 "cells": [
  {
   "cell_type": "code",
   "execution_count": 1,
   "metadata": {},
   "outputs": [],
   "source": [
    "import pandas as pd"
   ]
  },
  {
   "cell_type": "code",
   "execution_count": 2,
   "metadata": {},
   "outputs": [],
   "source": [
    "df = pd.read_csv('energydata_complete.csv')"
   ]
  },
  {
   "cell_type": "code",
   "execution_count": 3,
   "metadata": {},
   "outputs": [],
   "source": [
    "# rename columns"
   ]
  },
  {
   "cell_type": "code",
   "execution_count": 4,
   "metadata": {},
   "outputs": [],
   "source": [
    "column_names = {'date':'Date',\n",
    "                'Appliances':'Appliances_use',\n",
    "                'lights':'light_use',\n",
    "                'T1':'Temperature_kitchen',\n",
    "                'RH_1':'Humidity_kitchen',\n",
    "                'T2':'Temperature_living_room',\n",
    "                'RH_2':'Humidity_living_room',\n",
    "                'T3':'Temperature_laundry_room',\n",
    "                'RH_3':'Humidity_laundry_room',\n",
    "                'T4':'Temperature_office_room',\n",
    "                'RH_4':'Humidity_office_room',\n",
    "                'T5':'Temperature_bathroom',\n",
    "                'RH_5':'Humidity_bathroom',\n",
    "                'T6':'Temperature_outside_building',\n",
    "                'RH_6':'Humidity_outside_building',\n",
    "                'T7':'Temperature_ironing_room',\n",
    "                'RH_7':'Humidity_ironing_room',\n",
    "                'T8':'Temperature_teenage_room',\n",
    "                'RH_8':'Humidity_teenage_room',\n",
    "                'T9':'Temperature_parents_room',\n",
    "                'RH_9':'Humidity_parents_room',\n",
    "                'T_out':'Temperature_outside_Chievres',\n",
    "                'press_mm_hg':'pressure_Chievres',\n",
    "                'RH_out':'Humidity_outside_Chievres',\n",
    "                'windspeed':'wind_speed',\n",
    "                'visibility':'visibility_Chievres',\n",
    "                'Tdewpoint':'Tdew_Chievres',\n",
    "                'rv1':'random_variable_1',\n",
    "                'rv2':'random_variable_2'}\n",
    "df = df.rename(columns=column_names)"
   ]
  },
  {
   "cell_type": "code",
   "execution_count": 5,
   "metadata": {},
   "outputs": [],
   "source": [
    "remove_date_light = df.drop(columns = ['Date', 'light_use'])"
   ]
  },
  {
   "cell_type": "code",
   "execution_count": 6,
   "metadata": {},
   "outputs": [],
   "source": [
    "from sklearn.preprocessing import MinMaxScaler"
   ]
  },
  {
   "cell_type": "code",
   "execution_count": 7,
   "metadata": {},
   "outputs": [],
   "source": [
    "measure = MinMaxScaler() "
   ]
  },
  {
   "cell_type": "code",
   "execution_count": 8,
   "metadata": {},
   "outputs": [],
   "source": [
    "normalised_df = pd.DataFrame(measure.fit_transform(remove_date_light),columns = remove_date_light.columns)"
   ]
  },
  {
   "cell_type": "code",
   "execution_count": 9,
   "metadata": {},
   "outputs": [],
   "source": [
    "feature_df = normalised_df.drop(columns = ['Appliances_use'])"
   ]
  },
  {
   "cell_type": "code",
   "execution_count": 10,
   "metadata": {},
   "outputs": [],
   "source": [
    "target = normalised_df['Appliances_use']"
   ]
  },
  {
   "cell_type": "code",
   "execution_count": 12,
   "metadata": {},
   "outputs": [],
   "source": [
    "#split data"
   ]
  },
  {
   "cell_type": "code",
   "execution_count": 13,
   "metadata": {},
   "outputs": [],
   "source": [
    "from sklearn.model_selection import train_test_split"
   ]
  },
  {
   "cell_type": "code",
   "execution_count": 14,
   "metadata": {},
   "outputs": [],
   "source": [
    "x_train, x_test, y_train, y_test = train_test_split(feature_df, target, test_size=0.3, random_state=42)"
   ]
  },
  {
   "cell_type": "code",
   "execution_count": 15,
   "metadata": {},
   "outputs": [],
   "source": [
    "# run a multiple linear regression on the training set"
   ]
  },
  {
   "cell_type": "code",
   "execution_count": 16,
   "metadata": {},
   "outputs": [],
   "source": [
    "from sklearn.linear_model import LinearRegression"
   ]
  },
  {
   "cell_type": "code",
   "execution_count": 17,
   "metadata": {},
   "outputs": [],
   "source": [
    "model = LinearRegression()"
   ]
  },
  {
   "cell_type": "code",
   "execution_count": 18,
   "metadata": {},
   "outputs": [],
   "source": [
    "# fit the model to the training data set"
   ]
  },
  {
   "cell_type": "code",
   "execution_count": 19,
   "metadata": {},
   "outputs": [
    {
     "data": {
      "text/plain": [
       "LinearRegression()"
      ]
     },
     "execution_count": 19,
     "metadata": {},
     "output_type": "execute_result"
    }
   ],
   "source": [
    "model.fit(x_train, y_train)"
   ]
  },
  {
   "cell_type": "code",
   "execution_count": 20,
   "metadata": {},
   "outputs": [],
   "source": [
    "predicted_value = model.predict(x_test)"
   ]
  },
  {
   "cell_type": "code",
   "execution_count": 21,
   "metadata": {},
   "outputs": [
    {
     "data": {
      "text/plain": [
       "0.05"
      ]
     },
     "execution_count": 21,
     "metadata": {},
     "output_type": "execute_result"
    }
   ],
   "source": [
    "from sklearn.metrics import mean_absolute_error\n",
    "mae = mean_absolute_error(y_test, predicted_value)\n",
    "round(mae,3)"
   ]
  },
  {
   "cell_type": "code",
   "execution_count": 22,
   "metadata": {},
   "outputs": [
    {
     "data": {
      "text/plain": [
       "0.088"
      ]
     },
     "execution_count": 22,
     "metadata": {},
     "output_type": "execute_result"
    }
   ],
   "source": [
    "from sklearn.metrics import mean_squared_error\n",
    "import numpy as np\n",
    "rmse = np.sqrt(mean_squared_error(y_test, predicted_value))\n",
    "round(rmse, 3)"
   ]
  },
  {
   "cell_type": "code",
   "execution_count": 23,
   "metadata": {},
   "outputs": [
    {
     "data": {
      "text/plain": [
       "0.149"
      ]
     },
     "execution_count": 23,
     "metadata": {},
     "output_type": "execute_result"
    }
   ],
   "source": [
    "from sklearn.metrics import r2_score\n",
    "r2_score = r2_score(y_test, predicted_value)\n",
    "round(r2_score, 3)"
   ]
  },
  {
   "cell_type": "code",
   "execution_count": 24,
   "metadata": {},
   "outputs": [
    {
     "data": {
      "text/plain": [
       "45.348"
      ]
     },
     "execution_count": 24,
     "metadata": {},
     "output_type": "execute_result"
    }
   ],
   "source": [
    "rss = np.sum(np.square(y_test - predicted_value))\n",
    "round(rss, 3)"
   ]
  },
  {
   "cell_type": "code",
   "execution_count": 25,
   "metadata": {},
   "outputs": [
    {
     "data": {
      "text/plain": [
       "0.008"
      ]
     },
     "execution_count": 25,
     "metadata": {},
     "output_type": "execute_result"
    }
   ],
   "source": [
    "mse = mean_squared_error(y_test, predicted_value)\n",
    "round(mse, 3)"
   ]
  },
  {
   "cell_type": "code",
   "execution_count": 26,
   "metadata": {},
   "outputs": [
    {
     "data": {
      "text/plain": [
       "Ridge(alpha=0.5)"
      ]
     },
     "execution_count": 26,
     "metadata": {},
     "output_type": "execute_result"
    }
   ],
   "source": [
    "from sklearn.linear_model import Ridge\n",
    "ridge_reg = Ridge(alpha = 0.5)\n",
    "ridge_reg.fit(x_train, y_train)"
   ]
  },
  {
   "cell_type": "code",
   "execution_count": 27,
   "metadata": {},
   "outputs": [
    {
     "data": {
      "text/plain": [
       "Lasso(alpha=0.001)"
      ]
     },
     "execution_count": 27,
     "metadata": {},
     "output_type": "execute_result"
    }
   ],
   "source": [
    "from sklearn.linear_model import Lasso\n",
    "lasso_reg = Lasso(alpha = 0.001)\n",
    "lasso_reg.fit(x_train, y_train)"
   ]
  },
  {
   "cell_type": "code",
   "execution_count": 28,
   "metadata": {},
   "outputs": [],
   "source": [
    "#comparing the effects of regularisation"
   ]
  },
  {
   "cell_type": "code",
   "execution_count": 29,
   "metadata": {},
   "outputs": [],
   "source": [
    "def get_weight_df(model, feat, col_name):\n",
    "    # this funtion returns the weight of every feature\n",
    "    weights = pd.Series(model.coef_, feat.columns).sort_values()\n",
    "    weights_df = pd.DataFrame(weights).reset_index()\n",
    "    weights_df.columns = ['Features',col_name]\n",
    "    weights_df[col_name].round(2)\n",
    "    return weights_df"
   ]
  },
  {
   "cell_type": "code",
   "execution_count": 30,
   "metadata": {},
   "outputs": [],
   "source": [
    "def get_weight_df(model, feat, col_name):\n",
    "    # this funtion returns the weight of every feature\n",
    "    weights = pd.Series(model.coef_, feat.columns).sort_values()\n",
    "    weights_df = pd.DataFrame(weights).reset_index()\n",
    "    weights_df.columns = ['Features',col_name]\n",
    "    weights_df[col_name].round(2)\n",
    "    return weights_df"
   ]
  },
  {
   "cell_type": "code",
   "execution_count": 31,
   "metadata": {},
   "outputs": [
    {
     "name": "stdout",
     "output_type": "stream",
     "text": [
      "                        Features  Linear_Model_weights  Ridge_Weight  \\\n",
      "0           Humidity_living_room             -0.456698     -0.401134   \n",
      "1   Temperature_outside_Chievres             -0.321860     -0.250765   \n",
      "2        Temperature_living_room             -0.236178     -0.193880   \n",
      "3       Temperature_parents_room             -0.189941     -0.188584   \n",
      "4          Humidity_teenage_room             -0.157595     -0.156596   \n",
      "5      Humidity_outside_Chievres             -0.077671     -0.050541   \n",
      "6          Humidity_ironing_room             -0.044614     -0.046291   \n",
      "7          Humidity_parents_room             -0.039800     -0.041701   \n",
      "8           Temperature_bathroom             -0.015657     -0.020727   \n",
      "9            Temperature_kitchen             -0.003281     -0.021549   \n",
      "10             random_variable_1              0.000770      0.000743   \n",
      "11             random_variable_2              0.000770      0.000743   \n",
      "12                   Press_mm_hg              0.006839      0.006516   \n",
      "13      Temperature_ironing_room              0.010319      0.010021   \n",
      "14                    Visibility              0.012307      0.012032   \n",
      "15             Humidity_bathroom              0.016006      0.016176   \n",
      "16          Humidity_office_room              0.026386      0.024168   \n",
      "17       Temperature_office_room              0.028981      0.027006   \n",
      "18                     Windspeed              0.029183      0.030463   \n",
      "19     Humidity_outside_building              0.038049      0.035023   \n",
      "20         Humidity_laundry_room              0.096048      0.094976   \n",
      "21      Temperature_teenage_room              0.101995      0.100754   \n",
      "22                 Tdew_Chievres              0.117758      0.076668   \n",
      "23  Temperature_outside_building              0.236425      0.213316   \n",
      "24      Temperature_laundry_room              0.290627      0.287408   \n",
      "25              Humidity_kitchen              0.553547      0.511932   \n",
      "\n",
      "    Lasso_Weight  \n",
      "0      -0.000000  \n",
      "1       0.000000  \n",
      "2       0.000000  \n",
      "3      -0.000000  \n",
      "4      -0.000110  \n",
      "5      -0.049557  \n",
      "6      -0.000000  \n",
      "7      -0.000000  \n",
      "8      -0.000000  \n",
      "9       0.000000  \n",
      "10     -0.000000  \n",
      "11     -0.000000  \n",
      "12     -0.000000  \n",
      "13     -0.000000  \n",
      "14      0.000000  \n",
      "15      0.000000  \n",
      "16      0.000000  \n",
      "17     -0.000000  \n",
      "18      0.002912  \n",
      "19     -0.000000  \n",
      "20      0.000000  \n",
      "21      0.000000  \n",
      "22      0.000000  \n",
      "23      0.000000  \n",
      "24      0.000000  \n",
      "25      0.017880  \n"
     ]
    }
   ],
   "source": [
    "print(final_weights)"
   ]
  },
  {
   "cell_type": "code",
   "execution_count": null,
   "metadata": {},
   "outputs": [],
   "source": []
  }
 ],
 "metadata": {
  "kernelspec": {
   "display_name": "Python 3",
   "language": "python",
   "name": "python3"
  },
  "language_info": {
   "codemirror_mode": {
    "name": "ipython",
    "version": 3
   },
   "file_extension": ".py",
   "mimetype": "text/x-python",
   "name": "python",
   "nbconvert_exporter": "python",
   "pygments_lexer": "ipython3",
   "version": "3.8.3"
  }
 },
 "nbformat": 4,
 "nbformat_minor": 4
}
