{
 "cells": [
  {
   "cell_type": "code",
   "execution_count": 1,
   "metadata": {},
   "outputs": [],
   "source": [
    "import pandas as pd"
   ]
  },
  {
   "cell_type": "code",
   "execution_count": 2,
   "metadata": {},
   "outputs": [],
   "source": [
    "df = pd.read_csv('energydata_complete.csv')"
   ]
  },
  {
   "cell_type": "code",
   "execution_count": 3,
   "metadata": {},
   "outputs": [],
   "source": [
    "# rename columns"
   ]
  },
  {
   "cell_type": "code",
   "execution_count": 4,
   "metadata": {},
   "outputs": [],
   "source": [
    "column_names = {'date':'Date',\n",
    "                'Appliances':'Appliances_use',\n",
    "                'lights':'light_use',\n",
    "                'T1':'Temperature_kitchen',\n",
    "                'RH_1':'Humidity_kitchen',\n",
    "                'T2':'Temperature_living_room',\n",
    "                'RH_2':'Humidity_living_room',\n",
    "                'T3':'Temperature_laundry_room',\n",
    "                'RH_3':'Humidity_laundry_room',\n",
    "                'T4':'Temperature_office_room',\n",
    "                'RH_4':'Humidity_office_room',\n",
    "                'T5':'Temperature_bathroom',\n",
    "                'RH_5':'Humidity_bathroom',\n",
    "                'T6':'Temperature_outside_building',\n",
    "                'RH_6':'Humidity_outside_building',\n",
    "                'T7':'Temperature_ironing_room',\n",
    "                'RH_7':'Humidity_ironing_room',\n",
    "                'T8':'Temperature_teenage_room',\n",
    "                'RH_8':'Humidity_teenage_room',\n",
    "                'T9':'Temperature_parents_room',\n",
    "                'RH_9':'Humidity_parents_room',\n",
    "                'T_out':'Temperature_outside_Chievres',\n",
    "                'press_mm_hg':'pressure_Chievres',\n",
    "                'RH_out':'Humidity_outside_Chievres',\n",
    "                'windspeed':'wind_speed',\n",
    "                'visibility':'visibility_Chievres',\n",
    "                'Tdewpoint':'Tdew_Chievres',\n",
    "                'rv1':'random_variable_1',\n",
    "                'rv2':'random_variable_2'}\n",
    "df = df.rename(columns=column_names)"
   ]
  },
  {
   "cell_type": "code",
   "execution_count": 5,
   "metadata": {},
   "outputs": [],
   "source": [
    "remove_date_light = df.drop(columns = ['Date', 'light_use'])"
   ]
  },
  {
   "cell_type": "code",
   "execution_count": 6,
   "metadata": {},
   "outputs": [],
   "source": [
    "# select sample"
   ]
  },
  {
   "cell_type": "code",
   "execution_count": 7,
   "metadata": {},
   "outputs": [],
   "source": [
    "def_reg = df[['Temperature_living_room', 'Temperature_outside_building']]"
   ]
  },
  {
   "cell_type": "code",
   "execution_count": 8,
   "metadata": {},
   "outputs": [],
   "source": [
    "from sklearn.preprocessing import MinMaxScaler"
   ]
  },
  {
   "cell_type": "code",
   "execution_count": 9,
   "metadata": {},
   "outputs": [],
   "source": [
    "measure = MinMaxScaler()"
   ]
  },
  {
   "cell_type": "code",
   "execution_count": 10,
   "metadata": {},
   "outputs": [
    {
     "name": "stdout",
     "output_type": "stream",
     "text": [
      "       Temperature_living_room  Temperature_outside_building\n",
      "0                    19.200000                      7.026667\n",
      "1                    19.200000                      6.833333\n",
      "2                    19.200000                      6.560000\n",
      "3                    19.200000                      6.433333\n",
      "4                    19.200000                      6.366667\n",
      "...                        ...                           ...\n",
      "19730                25.890000                     24.796667\n",
      "19731                25.754000                     24.196667\n",
      "19732                25.628571                     23.626667\n",
      "19733                25.414000                     22.433333\n",
      "19734                25.264286                     21.026667\n",
      "\n",
      "[19735 rows x 2 columns]\n"
     ]
    }
   ],
   "source": [
    "print(def_reg)"
   ]
  },
  {
   "cell_type": "code",
   "execution_count": 11,
   "metadata": {},
   "outputs": [],
   "source": [
    "normalised_df = pd.DataFrame(measure.fit_transform(def_reg),columns=def_reg.columns)"
   ]
  },
  {
   "cell_type": "code",
   "execution_count": 14,
   "metadata": {},
   "outputs": [],
   "source": [
    "feature_df = normalised_df.drop(columns = ['Temperature_outside_building'])"
   ]
  },
  {
   "cell_type": "code",
   "execution_count": 15,
   "metadata": {},
   "outputs": [],
   "source": [
    "target = normalised_df['Temperature_outside_building']"
   ]
  },
  {
   "cell_type": "code",
   "execution_count": 16,
   "metadata": {},
   "outputs": [],
   "source": [
    "from sklearn.model_selection import train_test_split"
   ]
  },
  {
   "cell_type": "code",
   "execution_count": 18,
   "metadata": {},
   "outputs": [],
   "source": [
    "x_train, x_test, y_train, y_test = train_test_split(feature_df, target, test_size=0.3, random_state=42)"
   ]
  },
  {
   "cell_type": "code",
   "execution_count": 19,
   "metadata": {},
   "outputs": [],
   "source": [
    "from sklearn.linear_model import LinearRegression"
   ]
  },
  {
   "cell_type": "code",
   "execution_count": 20,
   "metadata": {},
   "outputs": [],
   "source": [
    "model = LinearRegression()"
   ]
  },
  {
   "cell_type": "code",
   "execution_count": 21,
   "metadata": {},
   "outputs": [
    {
     "data": {
      "text/plain": [
       "LinearRegression()"
      ]
     },
     "execution_count": 21,
     "metadata": {},
     "output_type": "execute_result"
    }
   ],
   "source": [
    "model.fit(x_train, y_train)"
   ]
  },
  {
   "cell_type": "code",
   "execution_count": 22,
   "metadata": {},
   "outputs": [],
   "source": [
    "predicted_value = model.predict(x_test)"
   ]
  },
  {
   "cell_type": "code",
   "execution_count": 23,
   "metadata": {},
   "outputs": [
    {
     "data": {
      "text/plain": [
       "0.643"
      ]
     },
     "execution_count": 23,
     "metadata": {},
     "output_type": "execute_result"
    }
   ],
   "source": [
    "from sklearn.metrics import r2_score\n",
    "r2_score = r2_score(y_test, predicted_value)\n",
    "round(r2_score, 3)"
   ]
  },
  {
   "cell_type": "code",
   "execution_count": 24,
   "metadata": {},
   "outputs": [
    {
     "data": {
      "text/plain": [
       "0.082"
      ]
     },
     "execution_count": 24,
     "metadata": {},
     "output_type": "execute_result"
    }
   ],
   "source": [
    "from sklearn.metrics import mean_absolute_error\n",
    "mae = mean_absolute_error(y_test, predicted_value)\n",
    "round(mae,3)"
   ]
  },
  {
   "cell_type": "code",
   "execution_count": 26,
   "metadata": {},
   "outputs": [],
   "source": [
    "import numpy as np"
   ]
  },
  {
   "cell_type": "code",
   "execution_count": 27,
   "metadata": {},
   "outputs": [
    {
     "data": {
      "text/plain": [
       "66.12"
      ]
     },
     "execution_count": 27,
     "metadata": {},
     "output_type": "execute_result"
    }
   ],
   "source": [
    "rss = np.sum(np.square(y_test - predicted_value))\n",
    "round(rss, 2)"
   ]
  },
  {
   "cell_type": "code",
   "execution_count": 28,
   "metadata": {},
   "outputs": [
    {
     "data": {
      "text/plain": [
       "0.11"
      ]
     },
     "execution_count": 28,
     "metadata": {},
     "output_type": "execute_result"
    }
   ],
   "source": [
    "from sklearn.metrics import mean_squared_error\n",
    "import numpy as np\n",
    "rmse = np.sqrt(mean_squared_error(y_test, predicted_value))\n",
    "round(rmse, 2)"
   ]
  },
  {
   "cell_type": "code",
   "execution_count": 29,
   "metadata": {},
   "outputs": [
    {
     "data": {
      "text/plain": [
       "0.64"
      ]
     },
     "execution_count": 29,
     "metadata": {},
     "output_type": "execute_result"
    }
   ],
   "source": [
    "from sklearn.metrics import r2_score\n",
    "r2_score = r2_score(y_test, predicted_value)\n",
    "round(r2_score, 2)"
   ]
  },
  {
   "cell_type": "code",
   "execution_count": 30,
   "metadata": {},
   "outputs": [
    {
     "data": {
      "text/plain": [
       "Ridge(alpha=0.5)"
      ]
     },
     "execution_count": 30,
     "metadata": {},
     "output_type": "execute_result"
    }
   ],
   "source": [
    "from sklearn.linear_model import Ridge\n",
    "ridge_reg = Ridge(alpha = 0.5)\n",
    "ridge_reg.fit(x_train, y_train)"
   ]
  },
  {
   "cell_type": "code",
   "execution_count": 31,
   "metadata": {},
   "outputs": [],
   "source": [
    "def get_weight_df(model, feat, col_name):\n",
    "    # this funtion returns the weight of every feature\n",
    "    weights = pd.Series(model.coef_, feat.columns).sort_values()\n",
    "    weights_df = pd.DataFrame(weights).reset_index()\n",
    "    weights_df.columns = ['Features',col_name]\n",
    "    weights_df[col_name].round(2)\n",
    "    return weights_df"
   ]
  },
  {
   "cell_type": "code",
   "execution_count": 33,
   "metadata": {},
   "outputs": [
    {
     "data": {
      "text/plain": [
       "Lasso(alpha=0.001)"
      ]
     },
     "execution_count": 33,
     "metadata": {},
     "output_type": "execute_result"
    }
   ],
   "source": [
    "from sklearn.linear_model import Lasso\n",
    "lasso_reg = Lasso(alpha = 0.001)\n",
    "lasso_reg.fit(x_train, y_train)"
   ]
  },
  {
   "cell_type": "code",
   "execution_count": 35,
   "metadata": {},
   "outputs": [],
   "source": [
    "ridge_weights_df = get_weight_df(ridge_reg, x_train, 'Ridge_Weight')\n",
    "lasso_weights_df = get_weight_df(lasso_reg, x_train, 'Lasso_Weight')\n",
    "final_weights = pd.merge(linear_model_weights, ridge_weights_df, on='Features')\n",
    "final_weights = pd.merge(final_weights, lasso_weights_df, on='Features')"
   ]
  },
  {
   "cell_type": "code",
   "execution_count": 36,
   "metadata": {},
   "outputs": [
    {
     "name": "stdout",
     "output_type": "stream",
     "text": [
      "                  Features  Linear_Model_weights  Ridge_Weight  Lasso_Weight\n",
      "0  Temperature_living_room              0.891077      0.889811       0.85178\n"
     ]
    }
   ],
   "source": [
    "print(final_weights)"
   ]
  },
  {
   "cell_type": "code",
   "execution_count": null,
   "metadata": {},
   "outputs": [],
   "source": []
  }
 ],
 "metadata": {
  "kernelspec": {
   "display_name": "Python 3",
   "language": "python",
   "name": "python3"
  },
  "language_info": {
   "codemirror_mode": {
    "name": "ipython",
    "version": 3
   },
   "file_extension": ".py",
   "mimetype": "text/x-python",
   "name": "python",
   "nbconvert_exporter": "python",
   "pygments_lexer": "ipython3",
   "version": "3.8.3"
  }
 },
 "nbformat": 4,
 "nbformat_minor": 4
}
